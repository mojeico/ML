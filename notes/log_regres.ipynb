{
 "cells": [
  {
   "cell_type": "code",
   "execution_count": 26,
   "metadata": {
    "collapsed": true
   },
   "outputs": [],
   "source": [
    "import pandas as pd\n",
    "from sklearn import metrics\n",
    "from sklearn.linear_model import LogisticRegression\n",
    "from sklearn.model_selection import train_test_split"
   ]
  },
  {
   "cell_type": "code",
   "execution_count": 27,
   "outputs": [],
   "source": [
    "import numpy as np\n",
    "data = pd.read_csv(\"./data/bank-loan.csv\") # dataset"
   ],
   "metadata": {
    "collapsed": false,
    "pycharm": {
     "name": "#%%\n"
    }
   }
  },
  {
   "cell_type": "code",
   "execution_count": 28,
   "outputs": [],
   "source": [
    "X = data.drop(['default'],axis=1)\n",
    "Y = data['default'].astype(str)\n",
    "X_train, X_test, Y_train, Y_test = train_test_split(X, Y, test_size=.20, random_state=0)"
   ],
   "metadata": {
    "collapsed": false,
    "pycharm": {
     "name": "#%%\n"
    }
   }
  },
  {
   "cell_type": "code",
   "execution_count": 28,
   "outputs": [],
   "source": [],
   "metadata": {
    "collapsed": false,
    "pycharm": {
     "name": "#%%\n"
    }
   }
  },
  {
   "cell_type": "code",
   "execution_count": 31,
   "outputs": [
    {
     "data": {
      "text/plain": "209    1\n452    0\n518    1\n966    0\n925    1\n      ..\n897    1\n709    1\n439    0\n174    1\n122    0\nName: Pass_Or_Fail, Length: 750, dtype: int64"
     },
     "execution_count": 31,
     "metadata": {},
     "output_type": "execute_result"
    }
   ],
   "source": [
    "def err_metric(CM):\n",
    "\n",
    "    TN = CM.iloc[0,0]\n",
    "    FN = CM.iloc[1,0]\n",
    "    TP = CM.iloc[1,1]\n",
    "    FP = CM.iloc[0,1]\n",
    "    precision =(TP)/(TP+FP)\n",
    "    accuracy_model  =(TP+TN)/(TP+TN+FP+FN)\n",
    "    recall_score  =(TP)/(TP+FN)\n",
    "\n",
    "    specificity_value =(TN)/(TN + FP)\n",
    "\n",
    "    False_positive_rate =(FP)/(FP+TN)\n",
    "    False_negative_rate =(FN)/(FN+TP)\n",
    "\n",
    "    f1_score =2*(( precision * recall_score)/( precision + recall_score))\n",
    "\n",
    "    print(\"Precision value of the model: \",precision)\n",
    "    print(\"Accuracy of the model: \",accuracy_model)\n",
    "    print(\"Recall value of the model: \",recall_score)\n",
    "    print(\"Specificity of the model: \",specificity_value)\n",
    "    print(\"False Positive rate of the model: \",False_positive_rate)\n",
    "    print(\"False Negative rate of the model: \",False_negative_rate)\n",
    "    print(\"f1 score of the model: \",f1_score)#%%\n",
    "x_test\n",
    "y_train"
   ],
   "metadata": {
    "collapsed": false,
    "pycharm": {
     "name": "#%%\n"
    }
   }
  },
  {
   "cell_type": "code",
   "execution_count": 32,
   "outputs": [
    {
     "name": "stdout",
     "output_type": "stream",
     "text": [
      "Precision value of the model:  0.5555555555555556\n",
      "Accuracy of the model:  0.7475728155339806\n",
      "Recall value of the model:  0.9375\n",
      "Specificity of the model:  0.6619718309859155\n",
      "False Positive rate of the model:  0.3380281690140845\n",
      "False Negative rate of the model:  0.0625\n",
      "f1 score of the model:  0.6976744186046512\n"
     ]
    },
    {
     "name": "stderr",
     "output_type": "stream",
     "text": [
      "/Users/glebmojeico/PycharmProjects/scientificProject/venv/lib/python3.9/site-packages/sklearn/linear_model/_logistic.py:763: ConvergenceWarning: lbfgs failed to converge (status=1):\n",
      "STOP: TOTAL NO. of ITERATIONS REACHED LIMIT.\n",
      "\n",
      "Increase the number of iterations (max_iter) or scale the data as shown in:\n",
      "    https://scikit-learn.org/stable/modules/preprocessing.html\n",
      "Please also refer to the documentation for alternative solver options:\n",
      "    https://scikit-learn.org/stable/modules/linear_model.html#logistic-regression\n",
      "  n_iter_i = _check_optimize_result(\n"
     ]
    }
   ],
   "source": [
    "logit= LogisticRegression(class_weight='balanced' , random_state=0).fit(X_train,Y_train)\n",
    "target = logit.predict(X_test)\n",
    "CM_logit = pd.crosstab(Y_test,target)\n",
    "err_metric(CM_logit)"
   ],
   "metadata": {
    "collapsed": false,
    "pycharm": {
     "name": "#%%\n"
    }
   }
  },
  {
   "cell_type": "code",
   "execution_count": 30,
   "outputs": [],
   "source": [],
   "metadata": {
    "collapsed": false,
    "pycharm": {
     "name": "#%%\n"
    }
   }
  },
  {
   "cell_type": "code",
   "execution_count": 30,
   "outputs": [],
   "source": [],
   "metadata": {
    "collapsed": false,
    "pycharm": {
     "name": "#%%\n"
    }
   }
  },
  {
   "cell_type": "code",
   "execution_count": 30,
   "outputs": [],
   "source": [],
   "metadata": {
    "collapsed": false,
    "pycharm": {
     "name": "#%%\n"
    }
   }
  },
  {
   "cell_type": "code",
   "execution_count": 30,
   "outputs": [],
   "source": [],
   "metadata": {
    "collapsed": false,
    "pycharm": {
     "name": "#%%\n"
    }
   }
  },
  {
   "cell_type": "code",
   "execution_count": 30,
   "outputs": [],
   "source": [],
   "metadata": {
    "collapsed": false,
    "pycharm": {
     "name": "#%%\n"
    }
   }
  },
  {
   "cell_type": "code",
   "execution_count": 30,
   "outputs": [],
   "source": [],
   "metadata": {
    "collapsed": false,
    "pycharm": {
     "name": "#%%\n"
    }
   }
  }
 ],
 "metadata": {
  "kernelspec": {
   "display_name": "Python 3",
   "language": "python",
   "name": "python3"
  },
  "language_info": {
   "codemirror_mode": {
    "name": "ipython",
    "version": 2
   },
   "file_extension": ".py",
   "mimetype": "text/x-python",
   "name": "python",
   "nbconvert_exporter": "python",
   "pygments_lexer": "ipython2",
   "version": "2.7.6"
  }
 },
 "nbformat": 4,
 "nbformat_minor": 0
}